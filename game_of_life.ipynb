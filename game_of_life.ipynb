{
 "cells": [
  {
   "cell_type": "code",
   "execution_count": 1,
   "id": "36428070",
   "metadata": {},
   "outputs": [],
   "source": [
    "from IPython.display import clear_output\n",
    "from cellular_automata import GameOfLife"
   ]
  },
  {
   "cell_type": "code",
   "execution_count": 2,
   "id": "1bdedb28",
   "metadata": {},
   "outputs": [
    {
     "name": "stdout",
     "output_type": "stream",
     "text": [
      "     \n",
      "X X  \n",
      " XX  \n",
      " X   \n",
      "     \n"
     ]
    }
   ],
   "source": [
    "initial_state = [\n",
    "    [0, 0, 0, 0, 0],\n",
    "    [0, 0, 1, 0, 0],\n",
    "    [0, 0, 0, 1, 0],\n",
    "    [0, 1, 1, 1, 0],\n",
    "    [0, 0, 0, 0, 0],\n",
    "]\n",
    "\n",
    "game = GameOfLife(initial_state)\n",
    "\n",
    "while True:\n",
    "    print(game)\n",
    "\n",
    "    user_input = input()\n",
    "    if user_input == \"q\":\n",
    "        break\n",
    "\n",
    "    clear_output(wait=True)\n",
    "\n",
    "    game.update()"
   ]
  }
 ],
 "metadata": {
  "kernelspec": {
   "display_name": "level-4-project",
   "language": "python",
   "name": "python3"
  },
  "language_info": {
   "codemirror_mode": {
    "name": "ipython",
    "version": 3
   },
   "file_extension": ".py",
   "mimetype": "text/x-python",
   "name": "python",
   "nbconvert_exporter": "python",
   "pygments_lexer": "ipython3",
   "version": "3.11.12"
  }
 },
 "nbformat": 4,
 "nbformat_minor": 5
}
